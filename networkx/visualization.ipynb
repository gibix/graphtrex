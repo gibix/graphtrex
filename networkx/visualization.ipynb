{
 "cells": [
  {
   "cell_type": "markdown",
   "metadata": {},
   "source": [
    "Boh notebook di prova"
   ]
  },
  {
   "cell_type": "code",
   "execution_count": 1,
   "metadata": {},
   "outputs": [
    {
     "name": "stdout",
     "output_type": "stream",
     "text": [
      "Populating the interactive namespace from numpy and matplotlib\n"
     ]
    }
   ],
   "source": [
    "#Populate the interactive namespace from numpy and matplotlib\n",
    "\n",
    "%pylab inline"
   ]
  },
  {
   "cell_type": "code",
   "execution_count": 2,
   "metadata": {
    "collapsed": true
   },
   "outputs": [],
   "source": [
    "#Load the module library and create the graph\n",
    "\n",
    "from lib import *\n",
    "\n",
    "#G = nx.DiGraph()\n",
    "\n",
    "filename = \"fbtrex-French2017.csv\"\n",
    "\n",
    "G = posttouser(filename)\n",
    "\n",
    "#nx.number_connected_components(G)\n"
   ]
  },
  {
   "cell_type": "code",
   "execution_count": 4,
   "metadata": {
    "scrolled": false
   },
   "outputs": [
    {
     "name": "stderr",
     "output_type": "stream",
     "text": [
      "/home/doktorfaust/anaconda2/lib/python2.7/site-packages/networkx/drawing/nx_pylab.py:126: MatplotlibDeprecationWarning: pyplot.hold is deprecated.\n",
      "    Future behavior will be consistent with the long-time default:\n",
      "    plot commands add elements without first clearing the\n",
      "    Axes and/or Figure.\n",
      "  b = plt.ishold()\n",
      "/home/doktorfaust/anaconda2/lib/python2.7/site-packages/networkx/drawing/nx_pylab.py:138: MatplotlibDeprecationWarning: pyplot.hold is deprecated.\n",
      "    Future behavior will be consistent with the long-time default:\n",
      "    plot commands add elements without first clearing the\n",
      "    Axes and/or Figure.\n",
      "  plt.hold(b)\n",
      "/home/doktorfaust/.local/lib/python2.7/site-packages/matplotlib/__init__.py:917: UserWarning: axes.hold is deprecated. Please remove it from your matplotlibrc and/or style files.\n",
      "  warnings.warn(self.msg_depr_set % key)\n",
      "/home/doktorfaust/.local/lib/python2.7/site-packages/matplotlib/rcsetup.py:152: UserWarning: axes.hold is deprecated, will be removed in 3.0\n",
      "  warnings.warn(\"axes.hold is deprecated, will be removed in 3.0\")\n"
     ]
    },
    {
     "data": {
      "image/png": "[encoded data removed]",
      "text/plain": [
       "<matplotlib.figure.Figure at 0x7f20252d1410>"
      ]
     },
     "metadata": {},
     "output_type": "display_data"
    }
   ],
   "source": [
    "pos = nx.spring_layout(G)\n",
    "\n",
    "nx.draw(G, pos)"
   ]
  },
  {
   "cell_type": "code",
   "execution_count": 3,
   "metadata": {},
   "outputs": [
    {
     "name": "stdout",
     "output_type": "stream",
     "text": [
      "Counter({12: 371, 1: 311, 8: 284, 2: 280, 10: 279, 11: 262, 9: 253, 13: 253, 14: 170, 7: 153, 6: 139, 5: 134, 4: 131, 15: 116, 16: 102, 3: 101, 17: 96, 18: 74, 19: 67, 20: 61, 21: 61, 25: 55, 23: 54, 22: 52, 24: 47, 27: 46, 28: 43, 26: 33, 29: 26, 30: 24, 31: 18, 37: 16, 40: 15, 39: 13, 34: 12, 36: 12, 41: 12, 45: 12, 94: 12, 33: 11, 38: 10, 42: 9, 43: 9, 32: 8, 35: 8, 44: 8, 48: 8, 52: 8, 56: 8, 93: 8, 96: 7, 72: 6, 95: 6, 98: 6, 67: 5, 68: 5, 73: 5, 99: 5, 102: 5, 53: 4, 59: 4, 62: 4, 81: 4, 104: 4, 46: 3, 49: 3, 50: 3, 51: 3, 54: 3, 60: 3, 65: 3, 74: 3, 79: 3, 86: 3, 87: 3, 88: 3, 106: 3, 47: 2, 55: 2, 57: 2, 58: 2, 61: 2, 64: 2, 66: 2, 69: 2, 76: 2, 78: 2, 80: 2, 82: 2, 90: 2, 91: 2, 100: 2, 63: 1, 70: 1, 71: 1, 75: 1, 77: 1, 84: 1, 85: 1, 97: 1, 101: 1, 103: 1, 105: 1, 107: 1, 108: 1, 110: 1, 25240: 1, 13982: 1, 10804: 1, 15843: 1})\n"
     ]
    }
   ],
   "source": [
    "from collections import Counter\n",
    "\n",
    "c = Counter(G.degree(n) for n in G.nodes())\n",
    "\n",
    "print c"
   ]
  },
  {
   "cell_type": "code",
   "execution_count": 5,
   "metadata": {
    "collapsed": true
   },
   "outputs": [],
   "source": [
    "def save_to_file(filename, fig=None):\n",
    "    \"\"\"Save to @filename with a custom set of file formats.\n",
    "    \n",
    "    By default, this function takes to most recent figure,\n",
    "    but a @fig can also be passed to this function as an argument.\n",
    "    \"\"\"\n",
    "    formats = [\n",
    "                \"pdf\",\n",
    "                \"png\",\n",
    "              ]\n",
    "    if fig is None:\n",
    "        for form in formats:\n",
    "            plt.savefig(\"%s.%s\"%(filename, form))\n",
    "    else:\n",
    "        for form in formats:\n",
    "            fig.savefig(\"%s.%s\"%(filename, form))"
   ]
  },
  {
   "cell_type": "code",
   "execution_count": 4,
   "metadata": {},
   "outputs": [
    {
     "name": "stderr",
     "output_type": "stream",
     "text": [
      "IOPub data rate exceeded.\n",
      "The notebook server will temporarily stop sending output\n",
      "to the client in order to avoid crashing it.\n",
      "To change this limit, set the config variable\n",
      "`--NotebookApp.iopub_data_rate_limit`.\n"
     ]
    }
   ],
   "source": [
    "#To properly save the network figure, try\n",
    "#$ jupyter notebook --NotebookApp.iopub_data_rate_limit=1.0e10\n",
    "#when starting jupyter\n",
    "\n",
    "pos=nx.spring_layout(G)\n",
    "\n",
    "nx.write_gml(G,'fbtrex.gml')\n",
    "\n",
    "plt.figure( figsize = (80,60) )\n",
    "\n",
    "s=nx.draw_networkx_nodes(G,\n",
    "            pos,\n",
    "            node_size=0.1,\n",
    "            node_color=nx.degree(G).values(),\n",
    "            alpha=1,\n",
    "            cmap=plt.cm.coolwarm\n",
    "            )\n",
    "\n",
    "nx.draw_networkx_edges(G, pos, alpha=0.5)\n",
    "\n",
    "#show the colorbar on the right side\n",
    "cbar=plt.colorbar(s)\n",
    "cbar.ax.set_ylabel('Degree', size=22)\n",
    "\n",
    "plt.axis('off')\n",
    "\n",
    "save_to_file(\"fourthdegree\", plt)"
   ]
  },
  {
   "cell_type": "code",
   "execution_count": 5,
   "metadata": {},
   "outputs": [
    {
     "name": "stderr",
     "output_type": "stream",
     "text": [
      "IOPub data rate exceeded.\n",
      "The notebook server will temporarily stop sending output\n",
      "to the client in order to avoid crashing it.\n",
      "To change this limit, set the config variable\n",
      "`--NotebookApp.iopub_data_rate_limit`.\n"
     ]
    }
   ],
   "source": [
    "DEGMAX = 4\n",
    "cleandeg(G,DEGMAX)\n",
    "vizspringimage(G, 'thirdegree')"
   ]
  },
  {
   "cell_type": "code",
   "execution_count": null,
   "metadata": {
    "collapsed": true
   },
   "outputs": [],
   "source": []
  }
 ],
 "metadata": {
  "kernelspec": {
   "display_name": "Python [Root]",
   "language": "python",
   "name": "Python [Root]"
  },
  "language_info": {
   "codemirror_mode": {
    "name": "ipython",
    "version": 2
   },
   "file_extension": ".py",
   "mimetype": "text/x-python",
   "name": "python",
   "nbconvert_exporter": "python",
   "pygments_lexer": "ipython2",
   "version": "2.7.11"
  }
 },
 "nbformat": 4,
 "nbformat_minor": 2
}
