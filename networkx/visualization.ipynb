{
 "cells": [
  {
   "cell_type": "markdown",
   "metadata": {},
   "source": [
    "Boh notebook di prova"
   ]
  },
  {
   "cell_type": "code",
   "execution_count": 1,
   "metadata": {},
   "outputs": [
    {
     "name": "stdout",
     "output_type": "stream",
     "text": [
      "Populating the interactive namespace from numpy and matplotlib\n"
     ]
    }
   ],
   "source": [
    "#Populate the interactive namespace from numpy and matplotlib\n",
    "\n",
    "%pylab inline"
   ]
  },
  {
   "cell_type": "code",
   "execution_count": 4,
   "metadata": {},
   "outputs": [
    {
     "data": {
      "text/plain": [
       "1"
      ]
     },
     "execution_count": 4,
     "metadata": {},
     "output_type": "execute_result"
    }
   ],
   "source": [
    "#Load the module library and create the graph\n",
    "\n",
    "from lib import *\n",
    "\n",
    "filename = \"fbtrex-French2017.csv\"\n",
    "\n",
    "G = posttlineuser(filename)\n",
    "\n",
    "nx.number_connected_components(G)\n"
   ]
  },
  {
   "cell_type": "code",
   "execution_count": 5,
   "metadata": {
    "scrolled": true
   },
   "outputs": [
    {
     "name": "stderr",
     "output_type": "stream",
     "text": [
      "/home/doktorfaust/anaconda2/lib/python2.7/site-packages/networkx/drawing/nx_pylab.py:126: MatplotlibDeprecationWarning: pyplot.hold is deprecated.\n",
      "    Future behavior will be consistent with the long-time default:\n",
      "    plot commands add elements without first clearing the\n",
      "    Axes and/or Figure.\n",
      "  b = plt.ishold()\n",
      "/home/doktorfaust/anaconda2/lib/python2.7/site-packages/networkx/drawing/nx_pylab.py:138: MatplotlibDeprecationWarning: pyplot.hold is deprecated.\n",
      "    Future behavior will be consistent with the long-time default:\n",
      "    plot commands add elements without first clearing the\n",
      "    Axes and/or Figure.\n",
      "  plt.hold(b)\n",
      "/home/doktorfaust/.local/lib/python2.7/site-packages/matplotlib/__init__.py:917: UserWarning: axes.hold is deprecated. Please remove it from your matplotlibrc and/or style files.\n",
      "  warnings.warn(self.msg_depr_set % key)\n",
      "/home/doktorfaust/.local/lib/python2.7/site-packages/matplotlib/rcsetup.py:152: UserWarning: axes.hold is deprecated, will be removed in 3.0\n",
      "  warnings.warn(\"axes.hold is deprecated, will be removed in 3.0\")\n"
     ]
    },
    {
     "data": {
      "image/png": "[encoded data removed]",
      "text/plain": [
       "<matplotlib.figure.Figure at 0x7f6f4bb830d0>"
      ]
     },
     "metadata": {},
     "output_type": "display_data"
    }
   ],
   "source": [
    "pos = nx.spring_layout(G)\n",
    "nx.draw(G, pos)"
   ]
  },
  {
   "cell_type": "code",
   "execution_count": 9,
   "metadata": {
    "collapsed": true
   },
   "outputs": [],
   "source": [
    "def save_to_file(filename, fig=None):\n",
    "    \"\"\"Save to @filename with a custom set of file formats.\n",
    "    \n",
    "    By default, this function takes to most recent figure,\n",
    "    but a @fig can also be passed to this function as an argument.\n",
    "    \"\"\"\n",
    "    formats = [\n",
    "                \"pdf\",\n",
    "                \"png\",\n",
    "              ]\n",
    "    if fig is None:\n",
    "        for form in formats:\n",
    "            plt.savefig(\"%s.%s\"%(filename, form))\n",
    "    else:\n",
    "        for form in formats:\n",
    "            fig.savefig(\"%s.%s\"%(filename, form))"
   ]
  },
  {
   "cell_type": "code",
   "execution_count": 10,
   "metadata": {},
   "outputs": [
    {
     "name": "stderr",
     "output_type": "stream",
     "text": [
      "IOPub data rate exceeded.\n",
      "The notebook server will temporarily stop sending output\n",
      "to the client in order to avoid crashing it.\n",
      "To change this limit, set the config variable\n",
      "`--NotebookApp.iopub_data_rate_limit`.\n"
     ]
    }
   ],
   "source": [
    "#To properly save the network figure, try\n",
    "#$ jupyter notebook --NotebookApp.iopub_data_rate_limit=1.0e10\n",
    "#when starting jupyter\n",
    "\n",
    "pos=nx.spring_layout(G)\n",
    "\n",
    "nx.write_gml(G,'fbtrex.gml')\n",
    "\n",
    "plt.figure( figsize = (80,60) )\n",
    "\n",
    "s=nx.draw_networkx_nodes(G,\n",
    "            pos,\n",
    "            node_size=0.1,\n",
    "            node_color=nx.degree(G).values(),\n",
    "            alpha=1,\n",
    "            cmap=plt.cm.coolwarm\n",
    "            )\n",
    "\n",
    "nx.draw_networkx_edges(G, pos, alpha=0.5)\n",
    "\n",
    "#show the colorbar on the right side\n",
    "cbar=plt.colorbar(s)\n",
    "cbar.ax.set_ylabel('Degree', size=22)\n",
    "\n",
    "plt.axis('off')\n",
    "\n",
    "save_to_file(\"trial\", plt)"
   ]
  },
  {
   "cell_type": "code",
   "execution_count": null,
   "metadata": {
    "collapsed": true
   },
   "outputs": [],
   "source": []
  }
 ],
 "metadata": {
  "kernelspec": {
   "display_name": "Python [Root]",
   "language": "python",
   "name": "Python [Root]"
  },
  "language_info": {
   "codemirror_mode": {
    "name": "ipython",
    "version": 2
   },
   "file_extension": ".py",
   "mimetype": "text/x-python",
   "name": "python",
   "nbconvert_exporter": "python",
   "pygments_lexer": "ipython2",
   "version": "2.7.11"
  }
 },
 "nbformat": 4,
 "nbformat_minor": 2
}
