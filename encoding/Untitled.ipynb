{
 "cells": [
  {
   "cell_type": "markdown",
   "metadata": {},
   "source": [
    "### Proper encoding for post titles ###\n",
    "\n",
    "In this notebook we will try to check which word encoding can better fit the datasets that will be present in different FBTrex experiments.\n",
    "\n",
    "Here the idea is to try to use as input a word representation of each post and check if it's possibile to guess the source of the post.\n",
    "\n",
    "As long as the only piece of information at our disposition will be the post title we have to rely on it for text analysis.\n",
    "\n",
    "In this sense a clear underststanding of the proper encoding will be critical for future anaytics."
   ]
  },
  {
   "cell_type": "code",
   "execution_count": 3,
   "metadata": {
    "collapsed": true
   },
   "outputs": [],
   "source": [
    "import os\n",
    "import random as rnd"
   ]
  },
  {
   "cell_type": "code",
   "execution_count": 2,
   "metadata": {
    "collapsed": true
   },
   "outputs": [],
   "source": [
    "#Import a word frequency list. File is formatted to contain one word per line\n",
    "def frequency_list(filename):\n",
    "    vec = []\n",
    "    fh = open(filename,'r')\n",
    "    for line in fh.readlines():\n",
    "        vec.append(line)\n",
    "    fh.close()\n",
    "    return vec\n",
    "#Clear from a list of words the most common one from the previous list\n",
    "\n",
    "def clear_title(s, voc):\n",
    "    for idx,word in enumerate(s):\n",
    "        if(word in voc):\n",
    "            del s[idx]\n",
    "    return s"
   ]
  },
  {
   "cell_type": "code",
   "execution_count": null,
   "metadata": {
    "collapsed": true
   },
   "outputs": [],
   "source": [
    "filename = 'top100french.csv'\n",
    "most_common_french = frequency_list(filename)\n",
    "\n",
    "def vectorize_french(fh, rho = 0.8):\n",
    "    \n",
    "    training_set = {}\n",
    "    test_set = {}\n",
    "    \n",
    "    for line in fh.readlines():\n",
    "    \n",
    "        s = line.strip().split(',')\n",
    "        s = clear_title(s)\n",
    "\n",
    "        if rnd.random < rho:\n",
    "            \n",
    "        else:\n",
    "            \n",
    "\n",
    "        return training_set, test_set"
   ]
  },
  {
   "cell_type": "code",
   "execution_count": null,
   "metadata": {
    "collapsed": true
   },
   "outputs": [],
   "source": [
    "filename = \"French2017-sample.csv\"\n",
    "\n",
    "fh = open(filename, 'r')\n",
    "fh.readline()\n",
    "\n",
    "## This parameter defines the size of the training and test datasets \n",
    "rho = 0.8\n",
    "\n",
    "training_set, test_set = vectorize_french(fh, rho)\n",
    "\n",
    "fh.close()"
   ]
  }
 ],
 "metadata": {
  "kernelspec": {
   "display_name": "Python [Root]",
   "language": "python",
   "name": "Python [Root]"
  },
  "language_info": {
   "codemirror_mode": {
    "name": "ipython",
    "version": 2
   },
   "file_extension": ".py",
   "mimetype": "text/x-python",
   "name": "python",
   "nbconvert_exporter": "python",
   "pygments_lexer": "ipython2",
   "version": "2.7.11"
  }
 },
 "nbformat": 4,
 "nbformat_minor": 2
}
