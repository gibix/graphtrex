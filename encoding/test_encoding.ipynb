{
 "cells": [
  {
   "cell_type": "markdown",
   "metadata": {},
   "source": [
    "### Proper encoding for post titles ###\n",
    "\n",
    "In this notebook we will try to check which word encoding can better fit the datasets that will be present in different FBTrex experiments.\n",
    "\n",
    "Here the idea is to try to use as input a word representation of each post and check if it's possibile to guess the source of the post.\n",
    "\n",
    "As long as the only piece of information at our disposition will be the post title we have to rely on it for text analysis.\n",
    "\n",
    "In this sense a clear underststanding of the proper encoding will be critical for future anaytics."
   ]
  },
  {
   "cell_type": "code",
   "execution_count": 27,
   "metadata": {
    "collapsed": true
   },
   "outputs": [],
   "source": [
    "import os\n",
    "import random as rnd\n",
    "\n",
    "import csv"
   ]
  },
  {
   "cell_type": "code",
   "execution_count": 21,
   "metadata": {
    "collapsed": true
   },
   "outputs": [],
   "source": [
    "#Import a word frequency list. File is formatted to contain one word per line\n",
    "\n",
    "def frequency_list(filename):\n",
    "    vec = []\n",
    "    fh = open(filename,'r')\n",
    "    for line in fh.readlines():\n",
    "        vec.append(line)\n",
    "    fh.close()\n",
    "    return vec\n",
    "\n",
    "#Clear from a list of words the most common one from the previous list\n",
    "\n",
    "def clear_title(s, voc):\n",
    "    for idx,word in enumerate(s):\n",
    "        if(word in voc):\n",
    "            del s[idx]\n",
    "    return s"
   ]
  },
  {
   "cell_type": "code",
   "execution_count": 23,
   "metadata": {},
   "outputs": [],
   "source": [
    "filename = 'top100french.csv'\n",
    "most_common_french = frequency_list(filename)\n",
    "\n",
    "def vectorize_french(fh, rho = 0.8):\n",
    "    \n",
    "    training_set = {}\n",
    "    test_set = {}\n",
    "    \n",
    "    for line in fh.readlines():\n",
    "    \n",
    "        #with this line we skip commas inside strings\n",
    "        line = list(csv.reader(line, skipinitialspace=True))\n",
    "        \n",
    "        #Unfortunately all commas will be saved as separeted elements\n",
    "        # in the list, we can get over this by just considering 2*idx\n",
    "        #where idx is the usual index in the csv\n",
    "        \n",
    "        source = line[20]\n",
    "        title = ''.join(line[22])\n",
    "        \n",
    "        title = clear_title(title, most_common_french)\n",
    "\n",
    "        if rnd.random() < rho:\n",
    "            \n",
    "            training_set[title] = source\n",
    "            \n",
    "        else:\n",
    "            \n",
    "            test_set[title] = source\n",
    "\n",
    "    return training_set, test_set"
   ]
  },
  {
   "cell_type": "code",
   "execution_count": 24,
   "metadata": {},
   "outputs": [],
   "source": [
    "filename = \"fbtrex-French2017.csv\"\n",
    "\n",
    "fh = open(filename, 'r')\n",
    "fh.readline()\n",
    "\n",
    "## This parameter defines the size of the training and test datasets \n",
    "rho = 0.8\n",
    "\n",
    "training_set, test_set = vectorize_french(fh, rho)\n",
    "\n",
    "fh.close()"
   ]
  },
  {
   "cell_type": "markdown",
   "metadata": {},
   "source": [
    "After this step we have "
   ]
  },
  {
   "cell_type": "code",
   "execution_count": 26,
   "metadata": {},
   "outputs": [
    {
     "name": "stdout",
     "output_type": "stream",
     "text": [
      "0 19\n"
     ]
    }
   ],
   "source": [
    "print len(training_set), len(test_set)"
   ]
  },
  {
   "cell_type": "code",
   "execution_count": 19,
   "metadata": {},
   "outputs": [
    {
     "name": "stdout",
     "output_type": "stream",
     "text": [
      "{'Des \\xc3\\xa9lecteurs qui ont vot\\xc3\\xa9 Hamon, M\\xc3\\xa9lenchon ou Fillon au premier tour de la pr\\xc3\\xa9sidentielle expliquent pourquoi ils ont choisi de voter blanc ou de s\\xe2\\x80\\x99abstenir le 7 mai.': ['Le Monde Politique'], 'Une rumeur, partag\\xc3\\xa9e des dizaines de milliers de fois sur Facebook, tente de le faire croire, mais c\\xe2\\x80\\x99est compl\\xc3\\xa8tement faux.': ['Le Monde Politique'], '\\xe3\\x80\\x83Pour faire barrage \\xc3\\xa0 Emmanuel Macron\\xe3\\x80\\x83': ['L\\xe2\\x80\\x99Obs'], 'Tout ce qu\\xe2\\x80\\x99il faut savoir sur cette option envisag\\xc3\\xa9e par de nombreux \\xc3\\xa9lecteurs': ['BFMTV'], '': ['', ''], '38 % des \\xc3\\xa9lecteurs de Fran\\xc3\\xa7ois Fillon se d\\xc3\\xa9clarent ainsi pr\\xc3\\xaats \\xc3\\xa0 voter au second tour pour Marine Le Pen.  (OPINION via Le Cercle Les Echos)': ['Les  Echos'], 'Dans un quartier populaire, rares \\xc3\\xa9taient les \\xc3\\xa9lecteurs \\xc3\\xa0 avoir vot\\xc3\\xa9 pour Emmanuel Macron avec entrain au second tour de la pr\\xc3\\xa9sidentielle qui l\\xe2\\x80\\x99oppose \\xc3\\xa0 Marine Le Pen.': ['Le Monde Politique'], 'Drague.': ['Lib\\xc3\\xa9ration'], 'En marche vers une hausse d\\xe2\\x80\\x99autres imp\\xc3\\xb4ts?  via Le Figaro \\xc3\\x89conomie': ['Le Figaro'], 'Cette pratique interdite en France (et tr\\xc3\\xa8s controvers\\xc3\\xa9e) gonfle massivement les audiences. \\xf0\\x9f\\x99\\x84 \\xf0\\x9f\\x93\\xa9 \\xf0\\x9f\\x94\\xb4 Pour suivre en direct les r\\xc3\\xa9sultats du 2nd tour, c\\xe2\\x80\\x99est par ici! http://bit.ly/r\\xc3\\xa9sultats2ndtour': ['Le Figaro'], 'Se sont-ils tromp\\xc3\\xa9s de date? \\xf0\\x9f\\x98\\xb2 \\xf0\\x9f\\x93\\xa9 \\xf0\\x9f\\x94\\xb4 Pour suivre en direct les r\\xc3\\xa9sultats du 2nd tour, c\\xe2\\x80\\x99est par ici! http://bit.ly/r\\xc3\\xa9sultats2ndtour': ['Le Figaro'], 'VID\\xc3\\x89O. Marine Le Pen souligne les points forts de la campagne de Jean-Luc M\\xc3\\xa9lenchon et s\\xe2\\x80\\x99adresse \\xc3\\xa0 ses \\xc3\\xa9lecteurs.': ['Le Point'], 'L\\xe2\\x80\\x99humoriste Pierre-Emmanuel Barr\\xc3\\xa9 a cri\\xc3\\xa9 \\xc3\\xa0 la censure apr\\xc3\\xa8s que Nagui lui a refus\\xc3\\xa9 de lire dans \\xc2\\xab La Bande originale \\xc2\\xbb, sur France Inter, une chronique appelant \\xc3\\xa0 l\\xe2\\x80\\x99abstention. Quelques heures plus tard, Audrey Pulvar \\xc3\\xa9tait suspendue de CNews pour avoir cosign\\xc3\\xa9 une tribune contre le FN.': ['Le Monde'], 'L\\xe2\\x80\\x99ancien maire de Paris condamne les pr\\xc3\\xa9cautions de Martine Aubry et Jean-Luc M\\xc3\\xa9lenchon, qui refusent d\\xe2\\x80\\x99appeler \\xc3\\xa0 voter pour Emmanuel Macron': ['Le Parisien'], 'La campagne est officiellement termin\\xc3\\xa9e': ['BFMTV'], 'Chaque semaine, la r\\xc3\\xa9daction de BFMTV vous fait (re)d\\xc3\\xa9couvrir un livre pour les enfants... et pour les plus grands': ['BFMTV'], 'Emmanuel Macron a vot\\xc3\\xa9 le premier, au Touquet. Marine Le Pen a fait de m\\xc3\\xaame quelques minutes plus tard, \\xc3\\xa0 H\\xc3\\xa9nin-Beaumont. \\xf0\\x9f\\x93\\xa9 \\xf0\\x9f\\x94\\xb4 Pour suivre en direct les r\\xc3\\xa9sultats du 2nd tour, c\\xe2\\x80\\x99est par ici! http://bit.ly/r\\xc3\\xa9sultats2ndtour': ['Le Figaro'], 'Une enqu\\xc3\\xaate interne a confirm\\xc3\\xa9 le lien entre le suicide d\\xe2\\x80\\x99Emmanuelle et ses conditions de travail': ['BFMTV'], 'Des \\xc3\\xa9lecteurs qui ont vot\\xc3\\xa9 Hamon, M\\xc3\\xa9lenchon ou Fillon au premier tour de la pr\\xc3\\xa9sidentielle expliquent pourquoi ils ont choisi de voter blanc ou de s\\xe2\\x80\\x99abstenir le 7 mai. Via Le Monde Politique': ['Le Monde']}\n"
     ]
    }
   ],
   "source": [
    "print test_set"
   ]
  },
  {
   "cell_type": "code",
   "execution_count": null,
   "metadata": {
    "collapsed": true
   },
   "outputs": [],
   "source": []
  }
 ],
 "metadata": {
  "kernelspec": {
   "display_name": "Python [Root]",
   "language": "python",
   "name": "Python [Root]"
  },
  "language_info": {
   "codemirror_mode": {
    "name": "ipython",
    "version": 2
   },
   "file_extension": ".py",
   "mimetype": "text/x-python",
   "name": "python",
   "nbconvert_exporter": "python",
   "pygments_lexer": "ipython2",
   "version": "2.7.11"
  }
 },
 "nbformat": 4,
 "nbformat_minor": 2
}
